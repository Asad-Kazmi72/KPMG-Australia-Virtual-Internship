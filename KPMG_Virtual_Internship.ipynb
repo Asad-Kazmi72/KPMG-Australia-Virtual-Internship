{
  "nbformat": 4,
  "nbformat_minor": 0,
  "metadata": {
    "colab": {
      "provenance": []
    },
    "kernelspec": {
      "name": "python3",
      "display_name": "Python 3"
    },
    "language_info": {
      "name": "python"
    }
  },
  "cells": [
    {
      "cell_type": "code",
      "execution_count": null,
      "metadata": {
        "id": "KyNz-LdpWOC5"
      },
      "outputs": [],
      "source": [
        "import pandas as pd\n",
        "# Load CustomerDemographic dataset\n",
        "customer_demographic_df = pd.read_excel('KPMG_VI.xlsx', sheet_name='CustomerDemographic')\n",
        "\n",
        "# Load Transactions dataset\n",
        "transactions_df = pd.read_excel('KPMG_VI.xlsx', sheet_name='Transactions')\n",
        "\n",
        "# Load CustomerAddress dataset\n",
        "customer_address_df = pd.read_excel('KPMG_VI.xlsx', sheet_name='CustomerAddress')\n",
        "\n",
        "testset = pd.read_excel('KPMG_VI.xlsx', sheet_name='TestSet')\n",
        "\n",
        "# Merge CustomerDemographic with Transactions on 'customer_id'\n",
        "merged_df = pd.merge(customer_demographic_df, transactions_df, on='customer_id', how='inner')\n",
        "\n",
        "# Merge with CustomerAddress on 'customer_id'\n",
        "merged_df = pd.merge(merged_df, customer_address_df, on='customer_id', how='inner')\n",
        "\n",
        "print(merged_df.head())  # Display the first few rows\n",
        "print(merged_df.info())  # Display summary information\n"
      ]
    },
    {
      "cell_type": "code",
      "source": [
        "merged_df.to_csv('train_dataset_KPMG.csv', index=False)"
      ],
      "metadata": {
        "id": "LOcOVhBFqX4p"
      },
      "execution_count": null,
      "outputs": []
    },
    {
      "cell_type": "code",
      "source": [
        "# Load the merged dataset\n",
        "df = pd.read_csv('train_dataset_KPMG.csv')\n",
        "\n",
        "# Change data type of 'DOB' and 'transaction_date' columns to datetime\n",
        "df['DOB'] = pd.to_datetime(df['DOB'])\n",
        "df['transaction_date'] = pd.to_datetime(df['transaction_date'])\n",
        "\n",
        "# Verify the updated data types\n",
        "print(df.dtypes)\n"
      ],
      "metadata": {
        "id": "HVP07Aq3ttsk"
      },
      "execution_count": null,
      "outputs": []
    },
    {
      "cell_type": "code",
      "source": [
        "def separate_columns(data):\n",
        "    numerical_columns = []\n",
        "    categorical_columns = []\n",
        "    datetime_columns = []\n",
        "\n",
        "    for col in data.columns:\n",
        "        if pd.api.types.is_numeric_dtype(data[col]):\n",
        "            numerical_columns.append(col)\n",
        "        elif pd.api.types.is_datetime64_any_dtype(data[col]):\n",
        "            datetime_columns.append(col)\n",
        "        else:\n",
        "            categorical_columns.append(col)\n",
        "\n",
        "    return numerical_columns, categorical_columns, datetime_columns\n",
        "\n",
        "# Separate columns\n",
        "numerical_cols, categorical_cols, datetime_cols = separate_columns(df)\n",
        "\n",
        "print(\"Numerical Columns:\")\n",
        "print(numerical_cols)\n",
        "\n",
        "print(\"\\nCategorical Columns:\")\n",
        "print(categorical_cols)\n",
        "\n",
        "print(\"\\nDatetime Columns:\")\n",
        "print(datetime_cols)\n"
      ],
      "metadata": {
        "id": "yqn7NS_qsTNz"
      },
      "execution_count": null,
      "outputs": []
    },
    {
      "cell_type": "code",
      "source": [
        "df.info()"
      ],
      "metadata": {
        "id": "eAY8v8nRs3-7"
      },
      "execution_count": null,
      "outputs": []
    },
    {
      "cell_type": "code",
      "source": [
        "import matplotlib.pyplot as plt\n",
        "import seaborn as sns\n",
        "\n",
        "# Visualize distribution using histograms\n",
        "df[numerical_cols].hist(bins=20, figsize=(10, 6))\n",
        "plt.tight_layout()\n",
        "plt.show()\n",
        "\n",
        "# Visualize distribution using box plots\n",
        "plt.figure(figsize=(10, 6))\n",
        "sns.boxplot(data=df[numerical_cols])\n",
        "plt.xticks(rotation=45)\n",
        "plt.tight_layout()\n",
        "plt.show()\n",
        "\n",
        "# Display summary statistics\n",
        "summary_stats = df[numerical_cols].describe()\n",
        "print(summary_stats)\n"
      ],
      "metadata": {
        "id": "O44lQBQRuEww"
      },
      "execution_count": null,
      "outputs": []
    },
    {
      "cell_type": "code",
      "source": [
        "# Visualize distribution using bar plots\n",
        "for col in categorical_cols:\n",
        "    plt.figure(figsize=(8, 6))\n",
        "    sns.countplot(data=df, x=col)\n",
        "    plt.xticks(rotation=45)\n",
        "    plt.tight_layout()\n",
        "    plt.show()\n",
        "\n",
        "# Display value counts for each category\n",
        "for col in categorical_cols:\n",
        "    value_counts = df[col].value_counts()\n",
        "    print(f\"Value counts for {col}:\\n{value_counts}\\n\")\n"
      ],
      "metadata": {
        "id": "uHjPsmfUvVax"
      },
      "execution_count": null,
      "outputs": []
    },
    {
      "cell_type": "code",
      "source": [
        "from datetime import datetime\n",
        "\n",
        "# Calculate age based on DOB and current date\n",
        "current_date = datetime.now()\n",
        "df['DOB'] = pd.to_datetime(df['DOB'])  # Ensure DOB column is datetime type\n",
        "df['age'] = (current_date - df['DOB']).dt.days // 365\n",
        "\n",
        "# Display the updated DataFrame\n",
        "print(df[['customer_id', 'DOB', 'age']].head())\n"
      ],
      "metadata": {
        "id": "VVijp4K3w6I4"
      },
      "execution_count": null,
      "outputs": []
    },
    {
      "cell_type": "code",
      "source": [
        "# Calculate frequency of purchases for each customer\n",
        "purchase_frequency = df.groupby('customer_id')['transaction_id'].count()\n",
        "df = df.merge(purchase_frequency, how='left', on='customer_id')\n",
        "df.rename(columns={'transaction_id_x': 'transaction_id', 'transaction_id_y': 'purchase_frequency'}, inplace=True)\n",
        "\n",
        "# Calculate average transaction amount for each customer\n",
        "average_transaction_amount = df.groupby('customer_id')['list_price'].mean()\n",
        "df = df.merge(average_transaction_amount, how='left', on='customer_id')\n",
        "df.rename(columns={'list_price_x': 'list_price', 'list_price_y': 'avg_transaction_amount'}, inplace=True)\n",
        "\n",
        "# Display the updated DataFrame\n",
        "print(df[['customer_id', 'purchase_frequency', 'avg_transaction_amount']].head())\n"
      ],
      "metadata": {
        "id": "26_xIc3VxTMU"
      },
      "execution_count": null,
      "outputs": []
    },
    {
      "cell_type": "code",
      "source": [
        "from datetime import datetime\n",
        "\n",
        "\n",
        "# Define age brackets\n",
        "age_bins = [0, 18, 30, 45, 60, 100]\n",
        "age_labels = ['<18', '18-30', '31-45', '46-60', '60+']\n",
        "df['age_group'] = pd.cut(df['age'], bins=age_bins, labels=age_labels, right=False)\n",
        "\n",
        "# Display the updated DataFrame\n",
        "print(df[['customer_id', 'DOB', 'age', 'age_group']].head())\n"
      ],
      "metadata": {
        "id": "9bCEZ2s0x0ok"
      },
      "execution_count": null,
      "outputs": []
    },
    {
      "cell_type": "code",
      "source": [
        "df.to_csv('train_dataset_KPMG_after_feature_engg.csv', index=False)"
      ],
      "metadata": {
        "id": "M7V-Ak_OyiVA"
      },
      "execution_count": null,
      "outputs": []
    },
    {
      "cell_type": "code",
      "source": [
        "import matplotlib.pyplot as plt\n",
        "\n",
        "plt.figure(figsize=(8, 6))\n",
        "plt.hist(df['past_3_years_bike_related_purchases'], bins=20, color='blue', alpha=0.7)\n",
        "plt.title('Distribution of Past 3 Years Bike Related Purchases')\n",
        "plt.xlabel('Past 3 Years Bike Related Purchases')\n",
        "plt.ylabel('Frequency')\n",
        "plt.show()\n"
      ],
      "metadata": {
        "id": "HEjE_x_E1TQW"
      },
      "execution_count": null,
      "outputs": []
    },
    {
      "cell_type": "code",
      "source": [
        "plt.figure(figsize=(10, 6))\n",
        "plt.boxplot([df['list_price'], df['standard_cost']], labels=['List Price', 'Standard Cost'])\n",
        "plt.title('Distribution of List Price and Standard Cost')\n",
        "plt.ylabel('Amount')\n",
        "plt.show()\n"
      ],
      "metadata": {
        "id": "ejFNr3OO1X9k"
      },
      "execution_count": null,
      "outputs": []
    },
    {
      "cell_type": "code",
      "source": [
        "import seaborn as sns\n",
        "\n",
        "plt.figure(figsize=(10, 6))\n",
        "sns.barplot(x='wealth_segment', y='tenure', data=df)\n",
        "plt.title('Average Tenure Across Wealth Segments')\n",
        "plt.xlabel('Wealth Segment')\n",
        "plt.ylabel('Average Tenure')\n",
        "plt.show()\n"
      ],
      "metadata": {
        "id": "Ayz_Bemt1fwA"
      },
      "execution_count": null,
      "outputs": []
    },
    {
      "cell_type": "code",
      "source": [
        "plt.figure(figsize=(8, 6))\n",
        "plt.hist(df['age'], bins=20, color='green', alpha=0.7)\n",
        "plt.title('Distribution of Customer Ages')\n",
        "plt.xlabel('Age')\n",
        "plt.ylabel('Frequency')\n",
        "plt.show()\n"
      ],
      "metadata": {
        "id": "ZYWvkUji1jj6"
      },
      "execution_count": null,
      "outputs": []
    },
    {
      "cell_type": "code",
      "source": [
        "plt.figure(figsize=(10, 6))\n",
        "sns.boxplot(x='gender', y='purchase_frequency', hue='wealth_segment', data=df)\n",
        "plt.title('Purchase Frequency by Gender and Wealth Segment')\n",
        "plt.xlabel('Gender')\n",
        "plt.ylabel('Purchase Frequency')\n",
        "plt.legend(title='Wealth Segment')\n",
        "plt.show()\n"
      ],
      "metadata": {
        "id": "92p471RN1pXs"
      },
      "execution_count": null,
      "outputs": []
    },
    {
      "cell_type": "code",
      "source": [
        "plt.figure(figsize=(12, 6))\n",
        "sns.barplot(x='job_industry_category', y='avg_transaction_amount', data=df)\n",
        "plt.title('Average Transaction Amount by Job Industry Category')\n",
        "plt.xlabel('Job Industry Category')\n",
        "plt.ylabel('Average Transaction Amount')\n",
        "plt.xticks(rotation=45)\n",
        "plt.show()\n"
      ],
      "metadata": {
        "id": "-DO7fvSs1vT_"
      },
      "execution_count": null,
      "outputs": []
    },
    {
      "cell_type": "code",
      "source": [
        "plt.figure(figsize=(6, 4))\n",
        "sns.countplot(x='gender', data=df)\n",
        "plt.title('Distribution of Gender')\n",
        "plt.xlabel('Gender')\n",
        "plt.ylabel('Count')\n",
        "plt.show()\n"
      ],
      "metadata": {
        "id": "3b0qHPi51wnb"
      },
      "execution_count": null,
      "outputs": []
    },
    {
      "cell_type": "code",
      "source": [
        "plt.figure(figsize=(10, 6))\n",
        "sns.countplot(y='job_title', data=df, order=df['job_title'].value_counts().index[:10])\n",
        "plt.title('Top 10 Most Common Job Titles')\n",
        "plt.xlabel('Count')\n",
        "plt.ylabel('Job Title')\n",
        "plt.show()\n",
        "\n",
        "plt.figure(figsize=(10, 6))\n",
        "sns.countplot(y='job_industry_category', data=df, order=df['job_industry_category'].value_counts().index)\n",
        "plt.title('Distribution of Job Industry Categories')\n",
        "plt.xlabel('Count')\n",
        "plt.ylabel('Job Industry Category')\n",
        "plt.show()\n"
      ],
      "metadata": {
        "id": "iVO04v8C2GFH"
      },
      "execution_count": null,
      "outputs": []
    },
    {
      "cell_type": "code",
      "source": [
        "plt.figure(figsize=(12, 6))\n",
        "sns.countplot(x='job_industry_category', hue='wealth_segment', data=df)\n",
        "plt.title('Wealth Segment Distribution Across Job Industry Categories')\n",
        "plt.xlabel('Job Industry Category')\n",
        "plt.ylabel('Count')\n",
        "plt.xticks(rotation=45)\n",
        "plt.legend(title='Wealth Segment')\n",
        "plt.show()\n"
      ],
      "metadata": {
        "id": "k2O3muKw2MgU"
      },
      "execution_count": null,
      "outputs": []
    },
    {
      "cell_type": "code",
      "source": [
        "plt.figure(figsize=(8, 6))\n",
        "sns.boxplot(x='owns_car', y='purchase_frequency', data=df)\n",
        "plt.title('Purchase Frequency by Car Ownership')\n",
        "plt.xlabel('Owns Car')\n",
        "plt.ylabel('Purchase Frequency')\n",
        "plt.show()\n"
      ],
      "metadata": {
        "id": "PuplWmpP2Nz9"
      },
      "execution_count": null,
      "outputs": []
    },
    {
      "cell_type": "code",
      "source": [
        "plt.figure(figsize=(10, 6))\n",
        "sns.countplot(x='deceased_indicator', data=df, hue='online_order')\n",
        "plt.title('Distribution of Deceased Indicator and Online Order')\n",
        "plt.xlabel('Deceased Indicator')\n",
        "plt.ylabel('Count')\n",
        "plt.legend(title='Online Order')\n",
        "plt.show()\n",
        "\n",
        "plt.figure(figsize=(8, 6))\n",
        "sns.boxplot(x='deceased_indicator', y='purchase_frequency', data=df)\n",
        "plt.title('Purchase Frequency by Deceased Indicator')\n",
        "plt.xlabel('Deceased Indicator')\n",
        "plt.ylabel('Purchase Frequency')\n",
        "plt.show()\n"
      ],
      "metadata": {
        "id": "e-oCuFZp2Rhp"
      },
      "execution_count": null,
      "outputs": []
    },
    {
      "cell_type": "code",
      "source": [
        "correlation_matrix = df[['past_3_years_bike_related_purchases', 'tenure', 'age']].corr()\n",
        "sns.heatmap(correlation_matrix, annot=True, cmap='coolwarm', center=0)\n",
        "plt.title('Correlation Heatmap')\n",
        "plt.show()\n"
      ],
      "metadata": {
        "id": "Tlnv4zWt2e9b"
      },
      "execution_count": null,
      "outputs": []
    },
    {
      "cell_type": "code",
      "source": [
        "sns.scatterplot(x='tenure', y='past_3_years_bike_related_purchases', data=df)\n",
        "plt.title('Relationship between Tenure and Purchase Activity')\n",
        "plt.xlabel('Tenure')\n",
        "plt.ylabel('Past 3 Years Bike Purchases')\n",
        "plt.show()\n"
      ],
      "metadata": {
        "id": "0QYt3aD12Ulq"
      },
      "execution_count": null,
      "outputs": []
    },
    {
      "cell_type": "code",
      "source": [
        "correlation = df['list_price'].corr(df['standard_cost'])\n",
        "sns.scatterplot(x='list_price', y='standard_cost', data=df)\n",
        "plt.title('Correlation between List Price and Standard Cost')\n",
        "plt.xlabel('List Price')\n",
        "plt.ylabel('Standard Cost')\n",
        "plt.show()\n"
      ],
      "metadata": {
        "id": "vxErfYhC23AV"
      },
      "execution_count": null,
      "outputs": []
    },
    {
      "cell_type": "code",
      "source": [
        "correlation_matrix = df[['age', 'purchase_frequency', 'avg_transaction_amount']].corr()\n",
        "sns.heatmap(correlation_matrix, annot=True, cmap='coolwarm', center=0)\n",
        "plt.title('Correlation Heatmap')\n",
        "plt.show()\n",
        "\n",
        "sns.scatterplot(x='age', y='purchase_frequency', data=df)\n",
        "plt.title('Relationship between Age and Purchase Frequency')\n",
        "plt.xlabel('Age')\n",
        "plt.ylabel('Purchase Frequency')\n",
        "plt.show()\n",
        "\n",
        "sns.scatterplot(x='age', y='avg_transaction_amount', data=df)\n",
        "plt.title('Relationship between Age and Average Transaction Amount')\n",
        "plt.xlabel('Age')\n",
        "plt.ylabel('Average Transaction Amount')\n",
        "plt.show()\n"
      ],
      "metadata": {
        "id": "qKViAncy28m0"
      },
      "execution_count": null,
      "outputs": []
    },
    {
      "cell_type": "code",
      "source": [
        "plt.figure(figsize=(10, 6))\n",
        "sns.barplot(x='age_group', y='purchase_frequency', hue='gender', data=df)\n",
        "plt.title('Purchase Frequency by Age Group and Gender')\n",
        "plt.xlabel('Age Group')\n",
        "plt.ylabel('Purchase Frequency')\n",
        "plt.show()\n",
        "\n",
        "plt.figure(figsize=(10, 6))\n",
        "sns.barplot(x='age_group', y='avg_transaction_amount', hue='wealth_segment', data=df)\n",
        "plt.title('Average Transaction Amount by Age Group and Wealth Segment')\n",
        "plt.xlabel('Age Group')\n",
        "plt.ylabel('Average Transaction Amount')\n",
        "plt.show()\n"
      ],
      "metadata": {
        "id": "caxOep_D291e"
      },
      "execution_count": null,
      "outputs": []
    },
    {
      "cell_type": "code",
      "source": [
        "# Drop date columns\n",
        "date_columns = ['DOB', 'transaction_date']\n",
        "df = df.drop(date_columns, axis=1)\n"
      ],
      "metadata": {
        "id": "ei7MeNJf3C-o"
      },
      "execution_count": null,
      "outputs": []
    },
    {
      "cell_type": "code",
      "source": [
        "# Perform one-hot encoding on nominal categorical columns\n",
        "nominal_categorical_columns = ['gender', 'job_title', 'job_industry_category', 'wealth_segment', 'owns_car', 'state']\n",
        "df = pd.get_dummies(df, columns=nominal_categorical_columns, drop_first=True)\n"
      ],
      "metadata": {
        "id": "f6fUR19Y4kfL"
      },
      "execution_count": null,
      "outputs": []
    },
    {
      "cell_type": "code",
      "source": [
        "from sklearn.preprocessing import LabelEncoder\n",
        "\n",
        "# Initialize LabelEncoder for ordinal categorical columns\n",
        "ordinal_categorical_columns = ['deceased_indicator', 'product_line', 'product_class', 'product_size']\n",
        "label_encoder = LabelEncoder()\n",
        "\n",
        "# Apply label encoding to each column\n",
        "for column in ordinal_categorical_columns:\n",
        "    df[column] = label_encoder.fit_transform(df[column])\n"
      ],
      "metadata": {
        "id": "SBiKwSqH4vNl"
      },
      "execution_count": null,
      "outputs": []
    },
    {
      "cell_type": "code",
      "source": [
        "df.info()\n"
      ],
      "metadata": {
        "id": "y-o9irMB7xat"
      },
      "execution_count": null,
      "outputs": []
    },
    {
      "cell_type": "code",
      "source": [
        "# Assuming your DataFrame is named 'df'\n",
        "numerical_columns = df.select_dtypes(include=['int64', 'float64'])  # Select numerical columns\n",
        "\n",
        "X_numerical = numerical_columns.drop(['avg_transaction_amount'], axis=1)  # Drop the target column if it's included\n",
        "\n",
        "# Separate the target variable\n",
        "y = numerical_columns['avg_transaction_amount']\n",
        "\n",
        "# Now X_numerical contains only the numerical features, and y contains the target variable\n"
      ],
      "metadata": {
        "id": "O8UaSGg54zyF"
      },
      "execution_count": null,
      "outputs": []
    },
    {
      "cell_type": "code",
      "source": [
        "from sklearn.model_selection import train_test_split\n",
        "\n",
        "# Split further into training, validation, and test sets\n",
        "X_train, X_temp, y_train, y_temp = train_test_split(X_numerical, y, test_size=0.3, random_state=42)\n",
        "X_val, X_test, y_val, y_test = train_test_split(X_temp, y_temp, test_size=0.5, random_state=42)\n"
      ],
      "metadata": {
        "id": "8L9mo57T46JO"
      },
      "execution_count": null,
      "outputs": []
    },
    {
      "cell_type": "code",
      "source": [
        "X_train"
      ],
      "metadata": {
        "id": "zE4cNQ5c6Ypm"
      },
      "execution_count": null,
      "outputs": []
    },
    {
      "cell_type": "code",
      "source": [
        "from sklearn.model_selection import train_test_split\n",
        "from sklearn.linear_model import LinearRegression\n",
        "from sklearn.ensemble import RandomForestRegressor\n",
        "from xgboost import XGBRegressor\n",
        "from sklearn.cluster import KMeans, AgglomerativeClustering\n",
        "from sklearn.metrics import mean_squared_error, silhouette_score\n",
        "\n",
        "def choose_best_algorithm(X_train, X_val, y_train, y_val, clustering=False):\n",
        "    if not clustering:\n",
        "        # Initialize models\n",
        "        models = {\n",
        "            'Linear Regression': LinearRegression(),\n",
        "            'Random Forest Regression': RandomForestRegressor(),\n",
        "            'XGBoost Regression': XGBRegressor()\n",
        "        }\n",
        "\n",
        "        # Train and evaluate models\n",
        "        results = {}\n",
        "        for name, model in models.items():\n",
        "            model.fit(X_train, y_train)\n",
        "            y_pred = model.predict(X_val)\n",
        "            rmse = mean_squared_error(y_val, y_pred, squared=False)\n",
        "            results[name] = rmse\n",
        "\n",
        "        # Choose the best performing algorithm\n",
        "        best_algorithm = min(results, key=results.get)\n",
        "        return best_algorithm, results\n",
        "\n",
        "    else:\n",
        "        # Initialize clustering models\n",
        "        models = {\n",
        "            'K-Means': KMeans(),\n",
        "            'Hierarchical Clustering': AgglomerativeClustering()\n",
        "        }\n",
        "\n",
        "        # Evaluate clustering models using silhouette score\n",
        "        results = {}\n",
        "        for name, model in models.items():\n",
        "            labels = model.fit_predict(X_train)\n",
        "            score = silhouette_score(X_train, labels)\n",
        "            results[name] = score\n",
        "\n",
        "        # Choose the best performing clustering algorithm\n",
        "        best_algorithm = max(results, key=results.get)\n",
        "        return best_algorithm, results\n",
        "\n",
        "# Call the function for regression algorithm selection\n",
        "best_regression_algorithm, regression_results = choose_best_algorithm(X_train, X_val, y_train, y_val)\n",
        "\n",
        "# Call the function for clustering algorithm selection\n",
        "best_clustering_algorithm, clustering_results = choose_best_algorithm(X_train, X_val, y_train, y_val, clustering=True)\n",
        "\n",
        "print(\"Best Regression Algorithm:\", best_regression_algorithm)\n",
        "print(\"Regression Algorithm Results:\", regression_results)\n",
        "print(\"Best Clustering Algorithm:\", best_clustering_algorithm)\n",
        "print(\"Clustering Algorithm Results:\", clustering_results)\n"
      ],
      "metadata": {
        "id": "4MsT_RIi6JFF"
      },
      "execution_count": null,
      "outputs": []
    }
  ]
}